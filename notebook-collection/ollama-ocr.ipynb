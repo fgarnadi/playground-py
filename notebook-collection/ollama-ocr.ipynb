{
 "cells": [
  {
   "cell_type": "code",
   "execution_count": 1,
   "id": "5c683e2a",
   "metadata": {},
   "outputs": [],
   "source": [
    "import ollama\n",
    "from pathlib import Path\n",
    "import base64"
   ]
  },
  {
   "cell_type": "code",
   "execution_count": 2,
   "id": "a19781a7",
   "metadata": {},
   "outputs": [],
   "source": [
    "def image_to_base64(file_path: Path):\n",
    "    with file_path.open(\"rb\") as img_file:\n",
    "        return base64.b64encode(img_file.read()).decode(\"utf-8\")"
   ]
  },
  {
   "cell_type": "code",
   "execution_count": 3,
   "id": "c621bc26",
   "metadata": {},
   "outputs": [],
   "source": [
    "file_path = Path(\"images/lenna.png\")\n",
    "\n",
    "# # use base64 representation\n",
    "# res = ollama.chat(\n",
    "#     model=\"gemma3:4b\",\n",
    "#     messages=[\n",
    "#         {\n",
    "#             \"role\": \"user\",\n",
    "#             \"content\": \"Describe this image\",\n",
    "#             \"images\": [image_to_base64(file_path)],\n",
    "#         }\n",
    "#     ],\n",
    "# )\n",
    "\n",
    "# use direct file path\n",
    "res = ollama.chat(\n",
    "    model=\"gemma3:4b\",\n",
    "    messages=[\n",
    "        {\n",
    "            \"role\": \"user\",\n",
    "            \"content\": \"Describe this image\",\n",
    "            \"images\": [file_path.as_posix()],\n",
    "        }\n",
    "    ],\n",
    ")"
   ]
  },
  {
   "cell_type": "code",
   "execution_count": 4,
   "id": "fc24c423",
   "metadata": {},
   "outputs": [
    {
     "data": {
      "text/plain": [
       "\"Here's a description of the image:\\n\\n**Overall Impression:**\\n\\nThe image is a vintage-style portrait, likely taken in the late 1960s or early 1970s, given the style and color grading. It has a warm, saturated orange/brown tone that evokes a retro feel.\\n\\n**Subject:**\\n\\n*   A woman with long, wavy brown hair is the central figure.\\n*   She has a serious expression.\\n*   Her skin tone is fair.\\n*   She is wearing a striking, wide-brimmed straw hat. \\n\\n**Hat Details:**\\n\\n*   The hat is made of straw and has a distinctive wide brim.\\n*   A band of purple and blue feathers is attached to the brim, adding a glamorous and bohemian touch to the outfit.\\n\\n**Background:**\\n\\n*   The background is blurred but appears to be a dark, possibly brick or stone wall. \\n\\n**Style & Mood:**\\n\\n*   The image has a fashionable, glamorous, and slightly dramatic mood.  It feels like a fashion shoot or a portrait for a magazine from that era.\\n\\nLet me know if you want me to focus on a specific aspect of the image!\""
      ]
     },
     "execution_count": 4,
     "metadata": {},
     "output_type": "execute_result"
    }
   ],
   "source": [
    "res.message.content"
   ]
  }
 ],
 "metadata": {
  "kernelspec": {
   "display_name": ".venv",
   "language": "python",
   "name": "python3"
  },
  "language_info": {
   "codemirror_mode": {
    "name": "ipython",
    "version": 3
   },
   "file_extension": ".py",
   "mimetype": "text/x-python",
   "name": "python",
   "nbconvert_exporter": "python",
   "pygments_lexer": "ipython3",
   "version": "3.13.7"
  }
 },
 "nbformat": 4,
 "nbformat_minor": 5
}

{
 "cells": [
  {
   "cell_type": "markdown",
   "metadata": {},
   "source": [
    "From Doug Turnbull's [Real life NDCG notebook](https://softwaredoug.com/blog/2024/10/19/real-life-ndcg)"
   ]
  },
  {
   "cell_type": "markdown",
   "metadata": {
    "id": "eYs4rqPEknVf"
   },
   "source": [
    "## Real-life NDCG computation\n",
    "\n",
    "You replay a set of search queries to your system, and concat them together into one big dataframe of results.\n",
    "\n",
    "Off to the side, you have labels for documents for these queries.\n",
    "\n",
    "Let's create some simple search relevance evaluation functions, taking into account the typical decisions you need to make when evaluating offline (missing labels, choosing the right ideal)"
   ]
  },
  {
   "cell_type": "markdown",
   "metadata": {
    "id": "XQVYdKbLzU1d"
   },
   "source": [
    "### Input 1 - Labeled judgments\n",
    "\n",
    "Here's a labels (ie [judgments](https://softwaredoug.com/blog/2021/02/21/what-is-a-judgment-list)) dataframe with two queries.\n",
    "\n",
    "Let's pretend we take these queries and replay them to our test search system, we get back the results in the subsequent cell"
   ]
  },
  {
   "cell_type": "code",
   "execution_count": 1,
   "metadata": {
    "colab": {
     "base_uri": "https://localhost:8080/",
     "height": 269
    },
    "id": "1AffJaG-kkFL",
    "outputId": "2094ae36-136c-4277-b819-b1a8cf2c7e3a"
   },
   "outputs": [
    {
     "data": {
      "text/html": [
       "<div>\n",
       "<style scoped>\n",
       "    .dataframe tbody tr th:only-of-type {\n",
       "        vertical-align: middle;\n",
       "    }\n",
       "\n",
       "    .dataframe tbody tr th {\n",
       "        vertical-align: top;\n",
       "    }\n",
       "\n",
       "    .dataframe thead th {\n",
       "        text-align: right;\n",
       "    }\n",
       "</style>\n",
       "<table border=\"1\" class=\"dataframe\">\n",
       "  <thead>\n",
       "    <tr style=\"text-align: right;\">\n",
       "      <th></th>\n",
       "      <th>query_id</th>\n",
       "      <th>query</th>\n",
       "      <th>grade</th>\n",
       "      <th>doc_id</th>\n",
       "    </tr>\n",
       "  </thead>\n",
       "  <tbody>\n",
       "    <tr>\n",
       "      <th>0</th>\n",
       "      <td>1</td>\n",
       "      <td>blue shoes</td>\n",
       "      <td>0.9</td>\n",
       "      <td>125125</td>\n",
       "    </tr>\n",
       "    <tr>\n",
       "      <th>1</th>\n",
       "      <td>1</td>\n",
       "      <td>blue shoes</td>\n",
       "      <td>0.9</td>\n",
       "      <td>5678</td>\n",
       "    </tr>\n",
       "    <tr>\n",
       "      <th>2</th>\n",
       "      <td>1</td>\n",
       "      <td>blue shoes</td>\n",
       "      <td>0.1</td>\n",
       "      <td>1122</td>\n",
       "    </tr>\n",
       "    <tr>\n",
       "      <th>3</th>\n",
       "      <td>2</td>\n",
       "      <td>red shoes</td>\n",
       "      <td>1.0</td>\n",
       "      <td>12225</td>\n",
       "    </tr>\n",
       "    <tr>\n",
       "      <th>4</th>\n",
       "      <td>2</td>\n",
       "      <td>red shoes</td>\n",
       "      <td>0.9</td>\n",
       "      <td>1521</td>\n",
       "    </tr>\n",
       "    <tr>\n",
       "      <th>5</th>\n",
       "      <td>2</td>\n",
       "      <td>red shoes</td>\n",
       "      <td>0.8</td>\n",
       "      <td>5125</td>\n",
       "    </tr>\n",
       "    <tr>\n",
       "      <th>6</th>\n",
       "      <td>2</td>\n",
       "      <td>red shoes</td>\n",
       "      <td>0.1</td>\n",
       "      <td>1111</td>\n",
       "    </tr>\n",
       "  </tbody>\n",
       "</table>\n",
       "</div>"
      ],
      "text/plain": [
       "   query_id       query  grade  doc_id\n",
       "0         1  blue shoes    0.9  125125\n",
       "1         1  blue shoes    0.9    5678\n",
       "2         1  blue shoes    0.1    1122\n",
       "3         2   red shoes    1.0   12225\n",
       "4         2   red shoes    0.9    1521\n",
       "5         2   red shoes    0.8    5125\n",
       "6         2   red shoes    0.1    1111"
      ]
     },
     "execution_count": 1,
     "metadata": {},
     "output_type": "execute_result"
    }
   ],
   "source": [
    "import pandas as pd\n",
    "\n",
    "labels_df = pd.DataFrame(\n",
    "    [\n",
    "        {\"query_id\": 1, \"query\": \"blue shoes\", \"grade\": 0.9, \"doc_id\": 125125},\n",
    "        {\"query_id\": 1, \"query\": \"blue shoes\", \"grade\": 0.9, \"doc_id\": 5678},\n",
    "        {\"query_id\": 1, \"query\": \"blue shoes\", \"grade\": 0.1, \"doc_id\": 1122},\n",
    "        {\"query_id\": 2, \"query\": \"red shoes\", \"grade\": 1.0, \"doc_id\": 12225},\n",
    "        {\"query_id\": 2, \"query\": \"red shoes\", \"grade\": 0.9, \"doc_id\": 1521},\n",
    "        {\"query_id\": 2, \"query\": \"red shoes\", \"grade\": 0.8, \"doc_id\": 5125},\n",
    "        {\"query_id\": 2, \"query\": \"red shoes\", \"grade\": 0.1, \"doc_id\": 1111},\n",
    "    ]\n",
    ")\n",
    "\n",
    "labels_df"
   ]
  },
  {
   "cell_type": "markdown",
   "metadata": {
    "id": "0uBXE66TmZdx"
   },
   "source": [
    "### Input 2 - replay results from the search engine\n",
    "\n",
    "We issued our two queries, and concatted their results to a single dataframe."
   ]
  },
  {
   "cell_type": "code",
   "execution_count": 2,
   "metadata": {
    "colab": {
     "base_uri": "https://localhost:8080/",
     "height": 206
    },
    "id": "8eoy1V-plbF6",
    "outputId": "fcd15c7e-934d-45ff-b6d8-7d0f4b064c33"
   },
   "outputs": [
    {
     "data": {
      "text/html": [
       "<div>\n",
       "<style scoped>\n",
       "    .dataframe tbody tr th:only-of-type {\n",
       "        vertical-align: middle;\n",
       "    }\n",
       "\n",
       "    .dataframe tbody tr th {\n",
       "        vertical-align: top;\n",
       "    }\n",
       "\n",
       "    .dataframe thead th {\n",
       "        text-align: right;\n",
       "    }\n",
       "</style>\n",
       "<table border=\"1\" class=\"dataframe\">\n",
       "  <thead>\n",
       "    <tr style=\"text-align: right;\">\n",
       "      <th></th>\n",
       "      <th>query_id</th>\n",
       "      <th>rank</th>\n",
       "      <th>query</th>\n",
       "      <th>doc_id</th>\n",
       "    </tr>\n",
       "  </thead>\n",
       "  <tbody>\n",
       "    <tr>\n",
       "      <th>0</th>\n",
       "      <td>1</td>\n",
       "      <td>1</td>\n",
       "      <td>blue shoes</td>\n",
       "      <td>5678</td>\n",
       "    </tr>\n",
       "    <tr>\n",
       "      <th>1</th>\n",
       "      <td>1</td>\n",
       "      <td>2</td>\n",
       "      <td>blue shoes</td>\n",
       "      <td>1122</td>\n",
       "    </tr>\n",
       "    <tr>\n",
       "      <th>2</th>\n",
       "      <td>2</td>\n",
       "      <td>1</td>\n",
       "      <td>red shoes</td>\n",
       "      <td>1521</td>\n",
       "    </tr>\n",
       "    <tr>\n",
       "      <th>3</th>\n",
       "      <td>2</td>\n",
       "      <td>2</td>\n",
       "      <td>red shoes</td>\n",
       "      <td>1251</td>\n",
       "    </tr>\n",
       "    <tr>\n",
       "      <th>4</th>\n",
       "      <td>2</td>\n",
       "      <td>3</td>\n",
       "      <td>red shoes</td>\n",
       "      <td>5125</td>\n",
       "    </tr>\n",
       "  </tbody>\n",
       "</table>\n",
       "</div>"
      ],
      "text/plain": [
       "   query_id  rank       query  doc_id\n",
       "0         1     1  blue shoes    5678\n",
       "1         1     2  blue shoes    1122\n",
       "2         2     1   red shoes    1521\n",
       "3         2     2   red shoes    1251\n",
       "4         2     3   red shoes    5125"
      ]
     },
     "execution_count": 2,
     "metadata": {},
     "output_type": "execute_result"
    }
   ],
   "source": [
    "results_df = pd.DataFrame(\n",
    "    [\n",
    "        {\"query_id\": 1, \"rank\": 1, \"query\": \"blue shoes\", \"doc_id\": 5678},\n",
    "        {\"query_id\": 1, \"rank\": 2, \"query\": \"blue shoes\", \"doc_id\": 1122},\n",
    "        {\"query_id\": 2, \"rank\": 1, \"query\": \"red shoes\", \"doc_id\": 1521},\n",
    "        {\"query_id\": 2, \"rank\": 2, \"query\": \"red shoes\", \"doc_id\": 1251},\n",
    "        {\"query_id\": 2, \"rank\": 3, \"query\": \"red shoes\", \"doc_id\": 5125},\n",
    "    ]\n",
    ")\n",
    "results_df"
   ]
  },
  {
   "cell_type": "markdown",
   "metadata": {
    "id": "cMSGf3rrmfuz"
   },
   "source": [
    "### Label results\n",
    "\n",
    "We now need to assign labels to our search results given the label dataframe. That's easy enough to do by joining labels into the results."
   ]
  },
  {
   "cell_type": "code",
   "execution_count": 3,
   "metadata": {
    "colab": {
     "base_uri": "https://localhost:8080/",
     "height": 206
    },
    "id": "i4em4II3mVdO",
    "outputId": "278da686-f975-4e96-90d8-a99f19c40cab"
   },
   "outputs": [
    {
     "data": {
      "text/html": [
       "<div>\n",
       "<style scoped>\n",
       "    .dataframe tbody tr th:only-of-type {\n",
       "        vertical-align: middle;\n",
       "    }\n",
       "\n",
       "    .dataframe tbody tr th {\n",
       "        vertical-align: top;\n",
       "    }\n",
       "\n",
       "    .dataframe thead th {\n",
       "        text-align: right;\n",
       "    }\n",
       "</style>\n",
       "<table border=\"1\" class=\"dataframe\">\n",
       "  <thead>\n",
       "    <tr style=\"text-align: right;\">\n",
       "      <th></th>\n",
       "      <th>query_id</th>\n",
       "      <th>rank</th>\n",
       "      <th>query</th>\n",
       "      <th>doc_id</th>\n",
       "      <th>grade</th>\n",
       "    </tr>\n",
       "  </thead>\n",
       "  <tbody>\n",
       "    <tr>\n",
       "      <th>0</th>\n",
       "      <td>1</td>\n",
       "      <td>1</td>\n",
       "      <td>blue shoes</td>\n",
       "      <td>5678</td>\n",
       "      <td>0.9</td>\n",
       "    </tr>\n",
       "    <tr>\n",
       "      <th>1</th>\n",
       "      <td>1</td>\n",
       "      <td>2</td>\n",
       "      <td>blue shoes</td>\n",
       "      <td>1122</td>\n",
       "      <td>0.1</td>\n",
       "    </tr>\n",
       "    <tr>\n",
       "      <th>2</th>\n",
       "      <td>2</td>\n",
       "      <td>1</td>\n",
       "      <td>red shoes</td>\n",
       "      <td>1521</td>\n",
       "      <td>0.9</td>\n",
       "    </tr>\n",
       "    <tr>\n",
       "      <th>3</th>\n",
       "      <td>2</td>\n",
       "      <td>2</td>\n",
       "      <td>red shoes</td>\n",
       "      <td>1251</td>\n",
       "      <td>NaN</td>\n",
       "    </tr>\n",
       "    <tr>\n",
       "      <th>4</th>\n",
       "      <td>2</td>\n",
       "      <td>3</td>\n",
       "      <td>red shoes</td>\n",
       "      <td>5125</td>\n",
       "      <td>0.8</td>\n",
       "    </tr>\n",
       "  </tbody>\n",
       "</table>\n",
       "</div>"
      ],
      "text/plain": [
       "   query_id  rank       query  doc_id  grade\n",
       "0         1     1  blue shoes    5678    0.9\n",
       "1         1     2  blue shoes    1122    0.1\n",
       "2         2     1   red shoes    1521    0.9\n",
       "3         2     2   red shoes    1251    NaN\n",
       "4         2     3   red shoes    5125    0.8"
      ]
     },
     "execution_count": 3,
     "metadata": {},
     "output_type": "execute_result"
    }
   ],
   "source": [
    "labeled = results_df.merge(labels_df, how=\"left\", on=[\"query_id\", \"query\", \"doc_id\"])\n",
    "labeled"
   ]
  },
  {
   "cell_type": "markdown",
   "metadata": {
    "id": "XrSyMhGHphdm"
   },
   "source": [
    "## Add in the basic DCG stats\n",
    "\n",
    "* gain - basically the grade, but very strongly biased to high grades (2^ grade) - 1\n",
    "* discount - position discount. Getting higher ranks better matters more.\n",
    "* discounted gain - gain * discount"
   ]
  },
  {
   "cell_type": "code",
   "execution_count": 4,
   "metadata": {
    "colab": {
     "base_uri": "https://localhost:8080/",
     "height": 206
    },
    "id": "qVL3uc1HmlJE",
    "outputId": "3a96dc35-3d1a-48b2-f6cd-6adb8e00a8bd"
   },
   "outputs": [
    {
     "data": {
      "text/html": [
       "<div>\n",
       "<style scoped>\n",
       "    .dataframe tbody tr th:only-of-type {\n",
       "        vertical-align: middle;\n",
       "    }\n",
       "\n",
       "    .dataframe tbody tr th {\n",
       "        vertical-align: top;\n",
       "    }\n",
       "\n",
       "    .dataframe thead th {\n",
       "        text-align: right;\n",
       "    }\n",
       "</style>\n",
       "<table border=\"1\" class=\"dataframe\">\n",
       "  <thead>\n",
       "    <tr style=\"text-align: right;\">\n",
       "      <th></th>\n",
       "      <th>query_id</th>\n",
       "      <th>rank</th>\n",
       "      <th>query</th>\n",
       "      <th>doc_id</th>\n",
       "      <th>grade</th>\n",
       "      <th>gain</th>\n",
       "      <th>discount</th>\n",
       "      <th>discounted_gain</th>\n",
       "    </tr>\n",
       "  </thead>\n",
       "  <tbody>\n",
       "    <tr>\n",
       "      <th>0</th>\n",
       "      <td>1</td>\n",
       "      <td>1</td>\n",
       "      <td>blue shoes</td>\n",
       "      <td>5678</td>\n",
       "      <td>0.9</td>\n",
       "      <td>0.866066</td>\n",
       "      <td>1.442695</td>\n",
       "      <td>1.249469</td>\n",
       "    </tr>\n",
       "    <tr>\n",
       "      <th>1</th>\n",
       "      <td>1</td>\n",
       "      <td>2</td>\n",
       "      <td>blue shoes</td>\n",
       "      <td>1122</td>\n",
       "      <td>0.1</td>\n",
       "      <td>0.071773</td>\n",
       "      <td>0.910239</td>\n",
       "      <td>0.065331</td>\n",
       "    </tr>\n",
       "    <tr>\n",
       "      <th>2</th>\n",
       "      <td>2</td>\n",
       "      <td>1</td>\n",
       "      <td>red shoes</td>\n",
       "      <td>1521</td>\n",
       "      <td>0.9</td>\n",
       "      <td>0.866066</td>\n",
       "      <td>1.442695</td>\n",
       "      <td>1.249469</td>\n",
       "    </tr>\n",
       "    <tr>\n",
       "      <th>3</th>\n",
       "      <td>2</td>\n",
       "      <td>2</td>\n",
       "      <td>red shoes</td>\n",
       "      <td>1251</td>\n",
       "      <td>NaN</td>\n",
       "      <td>NaN</td>\n",
       "      <td>0.910239</td>\n",
       "      <td>NaN</td>\n",
       "    </tr>\n",
       "    <tr>\n",
       "      <th>4</th>\n",
       "      <td>2</td>\n",
       "      <td>3</td>\n",
       "      <td>red shoes</td>\n",
       "      <td>5125</td>\n",
       "      <td>0.8</td>\n",
       "      <td>0.741101</td>\n",
       "      <td>0.721348</td>\n",
       "      <td>0.534591</td>\n",
       "    </tr>\n",
       "  </tbody>\n",
       "</table>\n",
       "</div>"
      ],
      "text/plain": [
       "   query_id  rank       query  doc_id  grade      gain  discount  \\\n",
       "0         1     1  blue shoes    5678    0.9  0.866066  1.442695   \n",
       "1         1     2  blue shoes    1122    0.1  0.071773  0.910239   \n",
       "2         2     1   red shoes    1521    0.9  0.866066  1.442695   \n",
       "3         2     2   red shoes    1251    NaN       NaN  0.910239   \n",
       "4         2     3   red shoes    5125    0.8  0.741101  0.721348   \n",
       "\n",
       "   discounted_gain  \n",
       "0         1.249469  \n",
       "1         0.065331  \n",
       "2         1.249469  \n",
       "3              NaN  \n",
       "4         0.534591  "
      ]
     },
     "execution_count": 4,
     "metadata": {},
     "output_type": "execute_result"
    }
   ],
   "source": [
    "import numpy as np\n",
    "\n",
    "labeled[\"gain\"] = (2 ** labeled[\"grade\"]) - 1\n",
    "labeled[\"discount\"] = 1 / (np.log(labeled[\"rank\"] + 1))\n",
    "labeled[\"discounted_gain\"] = labeled[\"gain\"] * labeled[\"discount\"]\n",
    "labeled"
   ]
  },
  {
   "cell_type": "markdown",
   "metadata": {
    "id": "wGWnFP2uns32"
   },
   "source": [
    "## Decision 1 - handling unlabeled results?\n",
    "\n",
    "How do we handle cases where we have to grade? The two most common options are:\n",
    "\n",
    "* FILTER - aka DCG-f - we remove the unlabeled result, and pretend the search engine only returned the labeled ones\n",
    "* ZERO - aka DCG-z - we set it to zero and treat the unlabeled result as irrelevant"
   ]
  },
  {
   "cell_type": "markdown",
   "metadata": {
    "id": "WZNol2tBpmJY"
   },
   "source": [
    "\n",
    "### DCG-z - set unlabeled as 0\n",
    "\n",
    "For now, let's do DCG-z"
   ]
  },
  {
   "cell_type": "code",
   "execution_count": 5,
   "metadata": {
    "colab": {
     "base_uri": "https://localhost:8080/",
     "height": 206
    },
    "id": "GUIC3KV2noch",
    "outputId": "f659d4c7-c920-4613-c5cd-56edd33b718f"
   },
   "outputs": [
    {
     "data": {
      "text/html": [
       "<div>\n",
       "<style scoped>\n",
       "    .dataframe tbody tr th:only-of-type {\n",
       "        vertical-align: middle;\n",
       "    }\n",
       "\n",
       "    .dataframe tbody tr th {\n",
       "        vertical-align: top;\n",
       "    }\n",
       "\n",
       "    .dataframe thead th {\n",
       "        text-align: right;\n",
       "    }\n",
       "</style>\n",
       "<table border=\"1\" class=\"dataframe\">\n",
       "  <thead>\n",
       "    <tr style=\"text-align: right;\">\n",
       "      <th></th>\n",
       "      <th>query_id</th>\n",
       "      <th>rank</th>\n",
       "      <th>query</th>\n",
       "      <th>doc_id</th>\n",
       "      <th>grade</th>\n",
       "      <th>gain</th>\n",
       "      <th>discount</th>\n",
       "      <th>discounted_gain</th>\n",
       "    </tr>\n",
       "  </thead>\n",
       "  <tbody>\n",
       "    <tr>\n",
       "      <th>0</th>\n",
       "      <td>1</td>\n",
       "      <td>1</td>\n",
       "      <td>blue shoes</td>\n",
       "      <td>5678</td>\n",
       "      <td>0.9</td>\n",
       "      <td>0.866066</td>\n",
       "      <td>1.442695</td>\n",
       "      <td>1.249469</td>\n",
       "    </tr>\n",
       "    <tr>\n",
       "      <th>1</th>\n",
       "      <td>1</td>\n",
       "      <td>2</td>\n",
       "      <td>blue shoes</td>\n",
       "      <td>1122</td>\n",
       "      <td>0.1</td>\n",
       "      <td>0.071773</td>\n",
       "      <td>0.910239</td>\n",
       "      <td>0.065331</td>\n",
       "    </tr>\n",
       "    <tr>\n",
       "      <th>2</th>\n",
       "      <td>2</td>\n",
       "      <td>1</td>\n",
       "      <td>red shoes</td>\n",
       "      <td>1521</td>\n",
       "      <td>0.9</td>\n",
       "      <td>0.866066</td>\n",
       "      <td>1.442695</td>\n",
       "      <td>1.249469</td>\n",
       "    </tr>\n",
       "    <tr>\n",
       "      <th>3</th>\n",
       "      <td>2</td>\n",
       "      <td>2</td>\n",
       "      <td>red shoes</td>\n",
       "      <td>1251</td>\n",
       "      <td>NaN</td>\n",
       "      <td>NaN</td>\n",
       "      <td>0.910239</td>\n",
       "      <td>0.000000</td>\n",
       "    </tr>\n",
       "    <tr>\n",
       "      <th>4</th>\n",
       "      <td>2</td>\n",
       "      <td>3</td>\n",
       "      <td>red shoes</td>\n",
       "      <td>5125</td>\n",
       "      <td>0.8</td>\n",
       "      <td>0.741101</td>\n",
       "      <td>0.721348</td>\n",
       "      <td>0.534591</td>\n",
       "    </tr>\n",
       "  </tbody>\n",
       "</table>\n",
       "</div>"
      ],
      "text/plain": [
       "   query_id  rank       query  doc_id  grade      gain  discount  \\\n",
       "0         1     1  blue shoes    5678    0.9  0.866066  1.442695   \n",
       "1         1     2  blue shoes    1122    0.1  0.071773  0.910239   \n",
       "2         2     1   red shoes    1521    0.9  0.866066  1.442695   \n",
       "3         2     2   red shoes    1251    NaN       NaN  0.910239   \n",
       "4         2     3   red shoes    5125    0.8  0.741101  0.721348   \n",
       "\n",
       "   discounted_gain  \n",
       "0         1.249469  \n",
       "1         0.065331  \n",
       "2         1.249469  \n",
       "3         0.000000  \n",
       "4         0.534591  "
      ]
     },
     "execution_count": 5,
     "metadata": {},
     "output_type": "execute_result"
    }
   ],
   "source": [
    "labeled_z = labeled.fillna({\"discounted_gain\": 0})\n",
    "labeled_z"
   ]
  },
  {
   "cell_type": "code",
   "execution_count": 6,
   "metadata": {
    "colab": {
     "base_uri": "https://localhost:8080/",
     "height": 178
    },
    "id": "2V9Dd2k2ogtb",
    "outputId": "4ecbc0de-f186-4937-ebda-04b7f00a3f68"
   },
   "outputs": [
    {
     "data": {
      "text/plain": [
       "query_id\n",
       "1    1.314800\n",
       "2    1.784061\n",
       "Name: discounted_gain, dtype: float64"
      ]
     },
     "execution_count": 6,
     "metadata": {},
     "output_type": "execute_result"
    }
   ],
   "source": [
    "dcg_zs = labeled_z.groupby(\"query_id\")[\"discounted_gain\"].sum()\n",
    "dcg_zs"
   ]
  },
  {
   "cell_type": "markdown",
   "metadata": {
    "id": "bRLeaaB-o3cX"
   },
   "source": [
    "### DCG-f - ignore unlabeled"
   ]
  },
  {
   "cell_type": "code",
   "execution_count": 7,
   "metadata": {
    "colab": {
     "base_uri": "https://localhost:8080/",
     "height": 175
    },
    "id": "_L6JDT1soymF",
    "outputId": "cb1fc3df-54ac-4926-c28a-33af888d5c85"
   },
   "outputs": [
    {
     "data": {
      "text/html": [
       "<div>\n",
       "<style scoped>\n",
       "    .dataframe tbody tr th:only-of-type {\n",
       "        vertical-align: middle;\n",
       "    }\n",
       "\n",
       "    .dataframe tbody tr th {\n",
       "        vertical-align: top;\n",
       "    }\n",
       "\n",
       "    .dataframe thead th {\n",
       "        text-align: right;\n",
       "    }\n",
       "</style>\n",
       "<table border=\"1\" class=\"dataframe\">\n",
       "  <thead>\n",
       "    <tr style=\"text-align: right;\">\n",
       "      <th></th>\n",
       "      <th>query_id</th>\n",
       "      <th>rank</th>\n",
       "      <th>query</th>\n",
       "      <th>doc_id</th>\n",
       "      <th>grade</th>\n",
       "      <th>gain</th>\n",
       "      <th>discount</th>\n",
       "      <th>discounted_gain</th>\n",
       "    </tr>\n",
       "  </thead>\n",
       "  <tbody>\n",
       "    <tr>\n",
       "      <th>0</th>\n",
       "      <td>1</td>\n",
       "      <td>1</td>\n",
       "      <td>blue shoes</td>\n",
       "      <td>5678</td>\n",
       "      <td>0.9</td>\n",
       "      <td>0.866066</td>\n",
       "      <td>1.442695</td>\n",
       "      <td>1.249469</td>\n",
       "    </tr>\n",
       "    <tr>\n",
       "      <th>1</th>\n",
       "      <td>1</td>\n",
       "      <td>2</td>\n",
       "      <td>blue shoes</td>\n",
       "      <td>1122</td>\n",
       "      <td>0.1</td>\n",
       "      <td>0.071773</td>\n",
       "      <td>0.910239</td>\n",
       "      <td>0.065331</td>\n",
       "    </tr>\n",
       "    <tr>\n",
       "      <th>2</th>\n",
       "      <td>2</td>\n",
       "      <td>1</td>\n",
       "      <td>red shoes</td>\n",
       "      <td>1521</td>\n",
       "      <td>0.9</td>\n",
       "      <td>0.866066</td>\n",
       "      <td>1.442695</td>\n",
       "      <td>1.249469</td>\n",
       "    </tr>\n",
       "    <tr>\n",
       "      <th>4</th>\n",
       "      <td>2</td>\n",
       "      <td>3</td>\n",
       "      <td>red shoes</td>\n",
       "      <td>5125</td>\n",
       "      <td>0.8</td>\n",
       "      <td>0.741101</td>\n",
       "      <td>0.721348</td>\n",
       "      <td>0.534591</td>\n",
       "    </tr>\n",
       "  </tbody>\n",
       "</table>\n",
       "</div>"
      ],
      "text/plain": [
       "   query_id  rank       query  doc_id  grade      gain  discount  \\\n",
       "0         1     1  blue shoes    5678    0.9  0.866066  1.442695   \n",
       "1         1     2  blue shoes    1122    0.1  0.071773  0.910239   \n",
       "2         2     1   red shoes    1521    0.9  0.866066  1.442695   \n",
       "4         2     3   red shoes    5125    0.8  0.741101  0.721348   \n",
       "\n",
       "   discounted_gain  \n",
       "0         1.249469  \n",
       "1         0.065331  \n",
       "2         1.249469  \n",
       "4         0.534591  "
      ]
     },
     "execution_count": 7,
     "metadata": {},
     "output_type": "execute_result"
    }
   ],
   "source": [
    "labeled_f = labeled[~labeled[\"discounted_gain\"].isna()]\n",
    "labeled_f"
   ]
  },
  {
   "cell_type": "markdown",
   "metadata": {
    "id": "UiV0XfUDpWgh"
   },
   "source": [
    "#### Adjust gain after filtering"
   ]
  },
  {
   "cell_type": "code",
   "execution_count": 8,
   "metadata": {
    "colab": {
     "base_uri": "https://localhost:8080/",
     "height": 516
    },
    "id": "n6vU4ypeo_NQ",
    "outputId": "22f8ec6e-50b0-4bf4-a883-ce7f8f8c5ca1"
   },
   "outputs": [
    {
     "name": "stderr",
     "output_type": "stream",
     "text": [
      "/var/folders/t3/6j10m6_j77bb7jpj04jbthb80000gn/T/ipykernel_12672/2627131693.py:1: SettingWithCopyWarning: \n",
      "A value is trying to be set on a copy of a slice from a DataFrame.\n",
      "Try using .loc[row_indexer,col_indexer] = value instead\n",
      "\n",
      "See the caveats in the documentation: https://pandas.pydata.org/pandas-docs/stable/user_guide/indexing.html#returning-a-view-versus-a-copy\n",
      "  labeled_f[\"rank\"] = labeled_f.groupby(\"query_id\").cumcount() + 1\n",
      "/var/folders/t3/6j10m6_j77bb7jpj04jbthb80000gn/T/ipykernel_12672/2627131693.py:2: SettingWithCopyWarning: \n",
      "A value is trying to be set on a copy of a slice from a DataFrame.\n",
      "Try using .loc[row_indexer,col_indexer] = value instead\n",
      "\n",
      "See the caveats in the documentation: https://pandas.pydata.org/pandas-docs/stable/user_guide/indexing.html#returning-a-view-versus-a-copy\n",
      "  labeled_f[\"discount\"] = 1 / (np.log(labeled_f[\"rank\"] + 1))\n",
      "/var/folders/t3/6j10m6_j77bb7jpj04jbthb80000gn/T/ipykernel_12672/2627131693.py:3: SettingWithCopyWarning: \n",
      "A value is trying to be set on a copy of a slice from a DataFrame.\n",
      "Try using .loc[row_indexer,col_indexer] = value instead\n",
      "\n",
      "See the caveats in the documentation: https://pandas.pydata.org/pandas-docs/stable/user_guide/indexing.html#returning-a-view-versus-a-copy\n",
      "  labeled_f[\"discounted_gain\"] = labeled_f[\"gain\"] * labeled_f[\"discount\"]\n"
     ]
    },
    {
     "data": {
      "text/html": [
       "<div>\n",
       "<style scoped>\n",
       "    .dataframe tbody tr th:only-of-type {\n",
       "        vertical-align: middle;\n",
       "    }\n",
       "\n",
       "    .dataframe tbody tr th {\n",
       "        vertical-align: top;\n",
       "    }\n",
       "\n",
       "    .dataframe thead th {\n",
       "        text-align: right;\n",
       "    }\n",
       "</style>\n",
       "<table border=\"1\" class=\"dataframe\">\n",
       "  <thead>\n",
       "    <tr style=\"text-align: right;\">\n",
       "      <th></th>\n",
       "      <th>query_id</th>\n",
       "      <th>rank</th>\n",
       "      <th>query</th>\n",
       "      <th>doc_id</th>\n",
       "      <th>grade</th>\n",
       "      <th>gain</th>\n",
       "      <th>discount</th>\n",
       "      <th>discounted_gain</th>\n",
       "    </tr>\n",
       "  </thead>\n",
       "  <tbody>\n",
       "    <tr>\n",
       "      <th>0</th>\n",
       "      <td>1</td>\n",
       "      <td>1</td>\n",
       "      <td>blue shoes</td>\n",
       "      <td>5678</td>\n",
       "      <td>0.9</td>\n",
       "      <td>0.866066</td>\n",
       "      <td>1.442695</td>\n",
       "      <td>1.249469</td>\n",
       "    </tr>\n",
       "    <tr>\n",
       "      <th>1</th>\n",
       "      <td>1</td>\n",
       "      <td>2</td>\n",
       "      <td>blue shoes</td>\n",
       "      <td>1122</td>\n",
       "      <td>0.1</td>\n",
       "      <td>0.071773</td>\n",
       "      <td>0.910239</td>\n",
       "      <td>0.065331</td>\n",
       "    </tr>\n",
       "    <tr>\n",
       "      <th>2</th>\n",
       "      <td>2</td>\n",
       "      <td>1</td>\n",
       "      <td>red shoes</td>\n",
       "      <td>1521</td>\n",
       "      <td>0.9</td>\n",
       "      <td>0.866066</td>\n",
       "      <td>1.442695</td>\n",
       "      <td>1.249469</td>\n",
       "    </tr>\n",
       "    <tr>\n",
       "      <th>4</th>\n",
       "      <td>2</td>\n",
       "      <td>2</td>\n",
       "      <td>red shoes</td>\n",
       "      <td>5125</td>\n",
       "      <td>0.8</td>\n",
       "      <td>0.741101</td>\n",
       "      <td>0.910239</td>\n",
       "      <td>0.674579</td>\n",
       "    </tr>\n",
       "  </tbody>\n",
       "</table>\n",
       "</div>"
      ],
      "text/plain": [
       "   query_id  rank       query  doc_id  grade      gain  discount  \\\n",
       "0         1     1  blue shoes    5678    0.9  0.866066  1.442695   \n",
       "1         1     2  blue shoes    1122    0.1  0.071773  0.910239   \n",
       "2         2     1   red shoes    1521    0.9  0.866066  1.442695   \n",
       "4         2     2   red shoes    5125    0.8  0.741101  0.910239   \n",
       "\n",
       "   discounted_gain  \n",
       "0         1.249469  \n",
       "1         0.065331  \n",
       "2         1.249469  \n",
       "4         0.674579  "
      ]
     },
     "execution_count": 8,
     "metadata": {},
     "output_type": "execute_result"
    }
   ],
   "source": [
    "labeled_f[\"rank\"] = labeled_f.groupby(\"query_id\").cumcount() + 1\n",
    "labeled_f[\"discount\"] = 1 / (np.log(labeled_f[\"rank\"] + 1))\n",
    "labeled_f[\"discounted_gain\"] = labeled_f[\"gain\"] * labeled_f[\"discount\"]\n",
    "\n",
    "labeled_f"
   ]
  },
  {
   "cell_type": "code",
   "execution_count": 9,
   "metadata": {
    "colab": {
     "base_uri": "https://localhost:8080/",
     "height": 178
    },
    "id": "D9JsKLolpSID",
    "outputId": "abc55f0f-3ce9-4710-9199-b14b65877e73"
   },
   "outputs": [
    {
     "data": {
      "text/plain": [
       "query_id\n",
       "1    1.314800\n",
       "2    1.924048\n",
       "Name: discounted_gain, dtype: float64"
      ]
     },
     "execution_count": 9,
     "metadata": {},
     "output_type": "execute_result"
    }
   ],
   "source": [
    "dcg_f = labeled_f.groupby(\"query_id\")[\"discounted_gain\"].sum()\n",
    "dcg_f"
   ]
  },
  {
   "cell_type": "markdown",
   "metadata": {
    "id": "Bc3yIxPnqMm-"
   },
   "source": [
    "## Decision 2 - Compute normalized DCG, but to which ideal?\n",
    "\n",
    "*See blog post [Flavors of NDCG](https://softwaredoug.com/blog/2024/05/22/flavors-of-ndcg)*\n",
    "\n",
    "To normalize DCG (ie compute NDCG = DCG / ideal DCG), we need to compute the ideal DCG. But there's several ways to compute the ideal:\n",
    "\n",
    "1. Local - NDCG-l - just the ideal ranking over the current returned search results. Purely measuring precision within the result set.\n",
    "2. Global - NDCG-g - the ideal over all the labels, which helps also measure our recall relative to the known ideal results.\n",
    "3. Max - NDCG-m - the ideal is the max label put in each position - measuring recall + whether our system even has relevant content for this query.\n",
    "\n",
    "Local causes NDCG to look more optimistic, max the most pessimistic."
   ]
  },
  {
   "cell_type": "markdown",
   "metadata": {
    "id": "2OLnyEbGq9rh"
   },
   "source": [
    "### NDCG relative to local iDCG\n",
    "\n",
    "Local == take labeled search results, sort by grade, compute ideal DCG within taht window.\n",
    "\n",
    "Local depends on whether you're filtering or assigning to zero. Let's just grab the filter DF. Then compute a DCG as if this was sorted by the labeled.\n",
    "\n",
    "Then below we compute an ideal rank + DCG stats, finally an iDCG-l"
   ]
  },
  {
   "cell_type": "code",
   "execution_count": 10,
   "metadata": {
    "colab": {
     "base_uri": "https://localhost:8080/",
     "height": 175
    },
    "id": "TtnefpRRpyMD",
    "outputId": "635e2c36-09de-4714-cf3f-f2473e534296"
   },
   "outputs": [
    {
     "data": {
      "text/html": [
       "<div>\n",
       "<style scoped>\n",
       "    .dataframe tbody tr th:only-of-type {\n",
       "        vertical-align: middle;\n",
       "    }\n",
       "\n",
       "    .dataframe tbody tr th {\n",
       "        vertical-align: top;\n",
       "    }\n",
       "\n",
       "    .dataframe thead th {\n",
       "        text-align: right;\n",
       "    }\n",
       "</style>\n",
       "<table border=\"1\" class=\"dataframe\">\n",
       "  <thead>\n",
       "    <tr style=\"text-align: right;\">\n",
       "      <th></th>\n",
       "      <th>query_id</th>\n",
       "      <th>rank</th>\n",
       "      <th>query</th>\n",
       "      <th>doc_id</th>\n",
       "      <th>grade</th>\n",
       "      <th>gain</th>\n",
       "      <th>discount</th>\n",
       "      <th>discounted_gain</th>\n",
       "    </tr>\n",
       "  </thead>\n",
       "  <tbody>\n",
       "    <tr>\n",
       "      <th>0</th>\n",
       "      <td>1</td>\n",
       "      <td>1</td>\n",
       "      <td>blue shoes</td>\n",
       "      <td>5678</td>\n",
       "      <td>0.9</td>\n",
       "      <td>0.866066</td>\n",
       "      <td>1.442695</td>\n",
       "      <td>1.249469</td>\n",
       "    </tr>\n",
       "    <tr>\n",
       "      <th>1</th>\n",
       "      <td>1</td>\n",
       "      <td>2</td>\n",
       "      <td>blue shoes</td>\n",
       "      <td>1122</td>\n",
       "      <td>0.1</td>\n",
       "      <td>0.071773</td>\n",
       "      <td>0.910239</td>\n",
       "      <td>0.065331</td>\n",
       "    </tr>\n",
       "    <tr>\n",
       "      <th>2</th>\n",
       "      <td>2</td>\n",
       "      <td>1</td>\n",
       "      <td>red shoes</td>\n",
       "      <td>1521</td>\n",
       "      <td>0.9</td>\n",
       "      <td>0.866066</td>\n",
       "      <td>1.442695</td>\n",
       "      <td>1.249469</td>\n",
       "    </tr>\n",
       "    <tr>\n",
       "      <th>4</th>\n",
       "      <td>2</td>\n",
       "      <td>2</td>\n",
       "      <td>red shoes</td>\n",
       "      <td>5125</td>\n",
       "      <td>0.8</td>\n",
       "      <td>0.741101</td>\n",
       "      <td>0.910239</td>\n",
       "      <td>0.674579</td>\n",
       "    </tr>\n",
       "  </tbody>\n",
       "</table>\n",
       "</div>"
      ],
      "text/plain": [
       "   query_id  rank       query  doc_id  grade      gain  discount  \\\n",
       "0         1     1  blue shoes    5678    0.9  0.866066  1.442695   \n",
       "1         1     2  blue shoes    1122    0.1  0.071773  0.910239   \n",
       "2         2     1   red shoes    1521    0.9  0.866066  1.442695   \n",
       "4         2     2   red shoes    5125    0.8  0.741101  0.910239   \n",
       "\n",
       "   discounted_gain  \n",
       "0         1.249469  \n",
       "1         0.065331  \n",
       "2         1.249469  \n",
       "4         0.674579  "
      ]
     },
     "execution_count": 10,
     "metadata": {},
     "output_type": "execute_result"
    }
   ],
   "source": [
    "ideal_results = labeled_f.sort_values([\"query_id\", \"grade\"], ascending=[True, False])\n",
    "ideal_results"
   ]
  },
  {
   "cell_type": "code",
   "execution_count": 11,
   "metadata": {
    "colab": {
     "base_uri": "https://localhost:8080/",
     "height": 175
    },
    "id": "bMpoxLZerND_",
    "outputId": "931db9a3-4f35-4d04-c983-195a53216536"
   },
   "outputs": [
    {
     "data": {
      "text/html": [
       "<div>\n",
       "<style scoped>\n",
       "    .dataframe tbody tr th:only-of-type {\n",
       "        vertical-align: middle;\n",
       "    }\n",
       "\n",
       "    .dataframe tbody tr th {\n",
       "        vertical-align: top;\n",
       "    }\n",
       "\n",
       "    .dataframe thead th {\n",
       "        text-align: right;\n",
       "    }\n",
       "</style>\n",
       "<table border=\"1\" class=\"dataframe\">\n",
       "  <thead>\n",
       "    <tr style=\"text-align: right;\">\n",
       "      <th></th>\n",
       "      <th>query_id</th>\n",
       "      <th>rank</th>\n",
       "      <th>query</th>\n",
       "      <th>doc_id</th>\n",
       "      <th>grade</th>\n",
       "      <th>gain</th>\n",
       "      <th>discount</th>\n",
       "      <th>discounted_gain</th>\n",
       "      <th>ideal_rank</th>\n",
       "    </tr>\n",
       "  </thead>\n",
       "  <tbody>\n",
       "    <tr>\n",
       "      <th>0</th>\n",
       "      <td>1</td>\n",
       "      <td>1</td>\n",
       "      <td>blue shoes</td>\n",
       "      <td>5678</td>\n",
       "      <td>0.9</td>\n",
       "      <td>0.866066</td>\n",
       "      <td>1.442695</td>\n",
       "      <td>1.249469</td>\n",
       "      <td>1</td>\n",
       "    </tr>\n",
       "    <tr>\n",
       "      <th>1</th>\n",
       "      <td>1</td>\n",
       "      <td>2</td>\n",
       "      <td>blue shoes</td>\n",
       "      <td>1122</td>\n",
       "      <td>0.1</td>\n",
       "      <td>0.071773</td>\n",
       "      <td>0.910239</td>\n",
       "      <td>0.065331</td>\n",
       "      <td>2</td>\n",
       "    </tr>\n",
       "    <tr>\n",
       "      <th>2</th>\n",
       "      <td>2</td>\n",
       "      <td>1</td>\n",
       "      <td>red shoes</td>\n",
       "      <td>1521</td>\n",
       "      <td>0.9</td>\n",
       "      <td>0.866066</td>\n",
       "      <td>1.442695</td>\n",
       "      <td>1.249469</td>\n",
       "      <td>1</td>\n",
       "    </tr>\n",
       "    <tr>\n",
       "      <th>4</th>\n",
       "      <td>2</td>\n",
       "      <td>2</td>\n",
       "      <td>red shoes</td>\n",
       "      <td>5125</td>\n",
       "      <td>0.8</td>\n",
       "      <td>0.741101</td>\n",
       "      <td>0.910239</td>\n",
       "      <td>0.674579</td>\n",
       "      <td>2</td>\n",
       "    </tr>\n",
       "  </tbody>\n",
       "</table>\n",
       "</div>"
      ],
      "text/plain": [
       "   query_id  rank       query  doc_id  grade      gain  discount  \\\n",
       "0         1     1  blue shoes    5678    0.9  0.866066  1.442695   \n",
       "1         1     2  blue shoes    1122    0.1  0.071773  0.910239   \n",
       "2         2     1   red shoes    1521    0.9  0.866066  1.442695   \n",
       "4         2     2   red shoes    5125    0.8  0.741101  0.910239   \n",
       "\n",
       "   discounted_gain  ideal_rank  \n",
       "0         1.249469           1  \n",
       "1         0.065331           2  \n",
       "2         1.249469           1  \n",
       "4         0.674579           2  "
      ]
     },
     "execution_count": 11,
     "metadata": {},
     "output_type": "execute_result"
    }
   ],
   "source": [
    "labeled_lf = labeled_f.copy()\n",
    "labeled_lf.loc[:, \"ideal_rank\"] = ideal_results.groupby(\"query_id\").cumcount() + 1\n",
    "labeled_lf"
   ]
  },
  {
   "cell_type": "code",
   "execution_count": 12,
   "metadata": {
    "colab": {
     "base_uri": "https://localhost:8080/",
     "height": 244
    },
    "id": "cgosT8SqrgL8",
    "outputId": "dfa9bea9-d7cb-4d3c-eed6-7b0df6487b50"
   },
   "outputs": [
    {
     "data": {
      "text/html": [
       "<div>\n",
       "<style scoped>\n",
       "    .dataframe tbody tr th:only-of-type {\n",
       "        vertical-align: middle;\n",
       "    }\n",
       "\n",
       "    .dataframe tbody tr th {\n",
       "        vertical-align: top;\n",
       "    }\n",
       "\n",
       "    .dataframe thead th {\n",
       "        text-align: right;\n",
       "    }\n",
       "</style>\n",
       "<table border=\"1\" class=\"dataframe\">\n",
       "  <thead>\n",
       "    <tr style=\"text-align: right;\">\n",
       "      <th></th>\n",
       "      <th>query_id</th>\n",
       "      <th>rank</th>\n",
       "      <th>query</th>\n",
       "      <th>doc_id</th>\n",
       "      <th>grade</th>\n",
       "      <th>gain</th>\n",
       "      <th>discount</th>\n",
       "      <th>discounted_gain</th>\n",
       "      <th>ideal_rank</th>\n",
       "      <th>ideal_discount</th>\n",
       "      <th>ideal_discounted_gain</th>\n",
       "    </tr>\n",
       "  </thead>\n",
       "  <tbody>\n",
       "    <tr>\n",
       "      <th>0</th>\n",
       "      <td>1</td>\n",
       "      <td>1</td>\n",
       "      <td>blue shoes</td>\n",
       "      <td>5678</td>\n",
       "      <td>0.9</td>\n",
       "      <td>0.866066</td>\n",
       "      <td>1.442695</td>\n",
       "      <td>1.249469</td>\n",
       "      <td>1</td>\n",
       "      <td>1.442695</td>\n",
       "      <td>1.249469</td>\n",
       "    </tr>\n",
       "    <tr>\n",
       "      <th>1</th>\n",
       "      <td>1</td>\n",
       "      <td>2</td>\n",
       "      <td>blue shoes</td>\n",
       "      <td>1122</td>\n",
       "      <td>0.1</td>\n",
       "      <td>0.071773</td>\n",
       "      <td>0.910239</td>\n",
       "      <td>0.065331</td>\n",
       "      <td>2</td>\n",
       "      <td>0.910239</td>\n",
       "      <td>0.065331</td>\n",
       "    </tr>\n",
       "    <tr>\n",
       "      <th>2</th>\n",
       "      <td>2</td>\n",
       "      <td>1</td>\n",
       "      <td>red shoes</td>\n",
       "      <td>1521</td>\n",
       "      <td>0.9</td>\n",
       "      <td>0.866066</td>\n",
       "      <td>1.442695</td>\n",
       "      <td>1.249469</td>\n",
       "      <td>1</td>\n",
       "      <td>1.442695</td>\n",
       "      <td>1.249469</td>\n",
       "    </tr>\n",
       "    <tr>\n",
       "      <th>4</th>\n",
       "      <td>2</td>\n",
       "      <td>2</td>\n",
       "      <td>red shoes</td>\n",
       "      <td>5125</td>\n",
       "      <td>0.8</td>\n",
       "      <td>0.741101</td>\n",
       "      <td>0.910239</td>\n",
       "      <td>0.674579</td>\n",
       "      <td>2</td>\n",
       "      <td>0.910239</td>\n",
       "      <td>0.674579</td>\n",
       "    </tr>\n",
       "  </tbody>\n",
       "</table>\n",
       "</div>"
      ],
      "text/plain": [
       "   query_id  rank       query  doc_id  grade      gain  discount  \\\n",
       "0         1     1  blue shoes    5678    0.9  0.866066  1.442695   \n",
       "1         1     2  blue shoes    1122    0.1  0.071773  0.910239   \n",
       "2         2     1   red shoes    1521    0.9  0.866066  1.442695   \n",
       "4         2     2   red shoes    5125    0.8  0.741101  0.910239   \n",
       "\n",
       "   discounted_gain  ideal_rank  ideal_discount  ideal_discounted_gain  \n",
       "0         1.249469           1        1.442695               1.249469  \n",
       "1         0.065331           2        0.910239               0.065331  \n",
       "2         1.249469           1        1.442695               1.249469  \n",
       "4         0.674579           2        0.910239               0.674579  "
      ]
     },
     "execution_count": 12,
     "metadata": {},
     "output_type": "execute_result"
    }
   ],
   "source": [
    "labeled_lf.loc[:, \"ideal_discount\"] = 1 / (np.log(labeled_lf[\"ideal_rank\"] + 1))\n",
    "labeled_lf.loc[:, \"ideal_discounted_gain\"] = labeled_lf[\"ideal_discount\"] * labeled_lf[\"gain\"]\n",
    "labeled_lf"
   ]
  },
  {
   "cell_type": "code",
   "execution_count": 13,
   "metadata": {
    "colab": {
     "base_uri": "https://localhost:8080/",
     "height": 178
    },
    "id": "_hqAx0cRsOXs",
    "outputId": "9f915d81-82f7-4dd6-a3a8-56a4c2fe94e9"
   },
   "outputs": [
    {
     "data": {
      "text/plain": [
       "query_id\n",
       "1    1.314800\n",
       "2    1.924048\n",
       "Name: ideal_discounted_gain, dtype: float64"
      ]
     },
     "execution_count": 13,
     "metadata": {},
     "output_type": "execute_result"
    }
   ],
   "source": [
    "idcg_lf = labeled_lf.groupby(\"query_id\")[\"ideal_discounted_gain\"].sum()\n",
    "idcg_lf"
   ]
  },
  {
   "cell_type": "code",
   "execution_count": 14,
   "metadata": {
    "colab": {
     "base_uri": "https://localhost:8080/",
     "height": 178
    },
    "id": "P6h0Ma4uspN9",
    "outputId": "f74982a3-418e-453e-9992-f70156b7a149"
   },
   "outputs": [
    {
     "data": {
      "text/plain": [
       "query_id\n",
       "1    1.0\n",
       "2    1.0\n",
       "dtype: float64"
      ]
     },
     "execution_count": 14,
     "metadata": {},
     "output_type": "execute_result"
    }
   ],
   "source": [
    "ndcg_lf = dcg_f / idcg_lf\n",
    "ndcg_lf"
   ]
  },
  {
   "cell_type": "markdown",
   "metadata": {
    "id": "8_KpFz6WtahY"
   },
   "source": [
    "### NDCG relative to global ideal\n",
    "\n",
    "Let's compute an IDCG from the labels, as if they were sorted to give the best results, to evaluate our DCG relative to a search engine that could retrieve these results in the top N.\n",
    "\n",
    "You'll notice this stat is considerably worse"
   ]
  },
  {
   "cell_type": "code",
   "execution_count": 15,
   "metadata": {
    "colab": {
     "base_uri": "https://localhost:8080/",
     "height": 269
    },
    "id": "_T60zGVQs1NO",
    "outputId": "e0bc1b22-bdc5-4536-f693-3434cb0e9275"
   },
   "outputs": [
    {
     "data": {
      "text/html": [
       "<div>\n",
       "<style scoped>\n",
       "    .dataframe tbody tr th:only-of-type {\n",
       "        vertical-align: middle;\n",
       "    }\n",
       "\n",
       "    .dataframe tbody tr th {\n",
       "        vertical-align: top;\n",
       "    }\n",
       "\n",
       "    .dataframe thead th {\n",
       "        text-align: right;\n",
       "    }\n",
       "</style>\n",
       "<table border=\"1\" class=\"dataframe\">\n",
       "  <thead>\n",
       "    <tr style=\"text-align: right;\">\n",
       "      <th></th>\n",
       "      <th>query_id</th>\n",
       "      <th>query</th>\n",
       "      <th>grade</th>\n",
       "      <th>doc_id</th>\n",
       "      <th>ideal_rank</th>\n",
       "      <th>gain</th>\n",
       "      <th>discount</th>\n",
       "      <th>discounted_gain</th>\n",
       "    </tr>\n",
       "  </thead>\n",
       "  <tbody>\n",
       "    <tr>\n",
       "      <th>0</th>\n",
       "      <td>1</td>\n",
       "      <td>blue shoes</td>\n",
       "      <td>0.9</td>\n",
       "      <td>125125</td>\n",
       "      <td>1</td>\n",
       "      <td>0.866066</td>\n",
       "      <td>1.442695</td>\n",
       "      <td>1.249469</td>\n",
       "    </tr>\n",
       "    <tr>\n",
       "      <th>1</th>\n",
       "      <td>1</td>\n",
       "      <td>blue shoes</td>\n",
       "      <td>0.9</td>\n",
       "      <td>5678</td>\n",
       "      <td>2</td>\n",
       "      <td>0.866066</td>\n",
       "      <td>0.910239</td>\n",
       "      <td>0.788327</td>\n",
       "    </tr>\n",
       "    <tr>\n",
       "      <th>2</th>\n",
       "      <td>1</td>\n",
       "      <td>blue shoes</td>\n",
       "      <td>0.1</td>\n",
       "      <td>1122</td>\n",
       "      <td>3</td>\n",
       "      <td>0.071773</td>\n",
       "      <td>0.721348</td>\n",
       "      <td>0.051774</td>\n",
       "    </tr>\n",
       "    <tr>\n",
       "      <th>3</th>\n",
       "      <td>2</td>\n",
       "      <td>red shoes</td>\n",
       "      <td>1.0</td>\n",
       "      <td>12225</td>\n",
       "      <td>1</td>\n",
       "      <td>1.000000</td>\n",
       "      <td>1.442695</td>\n",
       "      <td>1.442695</td>\n",
       "    </tr>\n",
       "    <tr>\n",
       "      <th>4</th>\n",
       "      <td>2</td>\n",
       "      <td>red shoes</td>\n",
       "      <td>0.9</td>\n",
       "      <td>1521</td>\n",
       "      <td>2</td>\n",
       "      <td>0.866066</td>\n",
       "      <td>0.910239</td>\n",
       "      <td>0.788327</td>\n",
       "    </tr>\n",
       "    <tr>\n",
       "      <th>5</th>\n",
       "      <td>2</td>\n",
       "      <td>red shoes</td>\n",
       "      <td>0.8</td>\n",
       "      <td>5125</td>\n",
       "      <td>3</td>\n",
       "      <td>0.741101</td>\n",
       "      <td>0.721348</td>\n",
       "      <td>0.534591</td>\n",
       "    </tr>\n",
       "    <tr>\n",
       "      <th>6</th>\n",
       "      <td>2</td>\n",
       "      <td>red shoes</td>\n",
       "      <td>0.1</td>\n",
       "      <td>1111</td>\n",
       "      <td>4</td>\n",
       "      <td>0.071773</td>\n",
       "      <td>0.621335</td>\n",
       "      <td>0.044595</td>\n",
       "    </tr>\n",
       "  </tbody>\n",
       "</table>\n",
       "</div>"
      ],
      "text/plain": [
       "   query_id       query  grade  doc_id  ideal_rank      gain  discount  \\\n",
       "0         1  blue shoes    0.9  125125           1  0.866066  1.442695   \n",
       "1         1  blue shoes    0.9    5678           2  0.866066  0.910239   \n",
       "2         1  blue shoes    0.1    1122           3  0.071773  0.721348   \n",
       "3         2   red shoes    1.0   12225           1  1.000000  1.442695   \n",
       "4         2   red shoes    0.9    1521           2  0.866066  0.910239   \n",
       "5         2   red shoes    0.8    5125           3  0.741101  0.721348   \n",
       "6         2   red shoes    0.1    1111           4  0.071773  0.621335   \n",
       "\n",
       "   discounted_gain  \n",
       "0         1.249469  \n",
       "1         0.788327  \n",
       "2         0.051774  \n",
       "3         1.442695  \n",
       "4         0.788327  \n",
       "5         0.534591  \n",
       "6         0.044595  "
      ]
     },
     "execution_count": 15,
     "metadata": {},
     "output_type": "execute_result"
    }
   ],
   "source": [
    "labels_df_ideal = labels_df.sort_values([\"query_id\", \"grade\"], ascending=[True, False])\n",
    "labels_df_ideal.loc[:, \"ideal_rank\"] = labels_df_ideal.groupby(\"query_id\").cumcount() + 1\n",
    "labels_df_ideal.loc[:, \"gain\"] = (2 ** labels_df_ideal[\"grade\"]) - 1\n",
    "labels_df_ideal.loc[:, \"discount\"] = 1 / (np.log(labels_df_ideal[\"ideal_rank\"] + 1))\n",
    "labels_df_ideal.loc[:, \"discounted_gain\"] = labels_df_ideal[\"discount\"] * labels_df_ideal[\"gain\"]\n",
    "\n",
    "labels_df_ideal"
   ]
  },
  {
   "cell_type": "code",
   "execution_count": 16,
   "metadata": {
    "colab": {
     "base_uri": "https://localhost:8080/",
     "height": 178
    },
    "id": "rkyHkWjDtfQV",
    "outputId": "dbb03b44-9568-4468-f6eb-ec7fd0809c95"
   },
   "outputs": [
    {
     "data": {
      "text/plain": [
       "query_id\n",
       "1    2.089570\n",
       "2    2.810209\n",
       "Name: discounted_gain, dtype: float64"
      ]
     },
     "execution_count": 16,
     "metadata": {},
     "output_type": "execute_result"
    }
   ],
   "source": [
    "idcg_g = labels_df_ideal.groupby(\"query_id\")[\"discounted_gain\"].sum()\n",
    "idcg_g"
   ]
  },
  {
   "cell_type": "code",
   "execution_count": 17,
   "metadata": {
    "colab": {
     "base_uri": "https://localhost:8080/",
     "height": 178
    },
    "id": "NVlkZyywvPB_",
    "outputId": "d425d6dc-ef11-47b5-a964-339b9c330bc2"
   },
   "outputs": [
    {
     "data": {
      "text/plain": [
       "query_id\n",
       "1    0.629220\n",
       "2    0.684664\n",
       "Name: discounted_gain, dtype: float64"
      ]
     },
     "execution_count": 17,
     "metadata": {},
     "output_type": "execute_result"
    }
   ],
   "source": [
    "ndcg_fg = dcg_f / idcg_g\n",
    "ndcg_fg"
   ]
  },
  {
   "cell_type": "markdown",
   "metadata": {
    "id": "Uhy8akOLvfgn"
   },
   "source": [
    "### NDCG relative to max ideal\n",
    "\n",
    "Let's compute an IDCG the most pesimistically possible - as if the max label was used on every result."
   ]
  },
  {
   "cell_type": "code",
   "execution_count": 18,
   "metadata": {
    "colab": {
     "base_uri": "https://localhost:8080/",
     "height": 175
    },
    "id": "u3R7QDq6vX_e",
    "outputId": "4f2ea4bf-8640-4820-87a0-ecbd96abfa6b"
   },
   "outputs": [
    {
     "data": {
      "text/html": [
       "<div>\n",
       "<style scoped>\n",
       "    .dataframe tbody tr th:only-of-type {\n",
       "        vertical-align: middle;\n",
       "    }\n",
       "\n",
       "    .dataframe tbody tr th {\n",
       "        vertical-align: top;\n",
       "    }\n",
       "\n",
       "    .dataframe thead th {\n",
       "        text-align: right;\n",
       "    }\n",
       "</style>\n",
       "<table border=\"1\" class=\"dataframe\">\n",
       "  <thead>\n",
       "    <tr style=\"text-align: right;\">\n",
       "      <th></th>\n",
       "      <th>query_id</th>\n",
       "      <th>rank</th>\n",
       "      <th>query</th>\n",
       "      <th>doc_id</th>\n",
       "      <th>grade</th>\n",
       "      <th>gain</th>\n",
       "      <th>discount</th>\n",
       "      <th>discounted_gain</th>\n",
       "      <th>ideal_discounted_gain</th>\n",
       "    </tr>\n",
       "  </thead>\n",
       "  <tbody>\n",
       "    <tr>\n",
       "      <th>0</th>\n",
       "      <td>1</td>\n",
       "      <td>1</td>\n",
       "      <td>blue shoes</td>\n",
       "      <td>5678</td>\n",
       "      <td>0.9</td>\n",
       "      <td>0.866066</td>\n",
       "      <td>1.442695</td>\n",
       "      <td>1.249469</td>\n",
       "      <td>1.442695</td>\n",
       "    </tr>\n",
       "    <tr>\n",
       "      <th>1</th>\n",
       "      <td>1</td>\n",
       "      <td>2</td>\n",
       "      <td>blue shoes</td>\n",
       "      <td>1122</td>\n",
       "      <td>0.1</td>\n",
       "      <td>0.071773</td>\n",
       "      <td>0.910239</td>\n",
       "      <td>0.065331</td>\n",
       "      <td>0.910239</td>\n",
       "    </tr>\n",
       "    <tr>\n",
       "      <th>2</th>\n",
       "      <td>2</td>\n",
       "      <td>1</td>\n",
       "      <td>red shoes</td>\n",
       "      <td>1521</td>\n",
       "      <td>0.9</td>\n",
       "      <td>0.866066</td>\n",
       "      <td>1.442695</td>\n",
       "      <td>1.249469</td>\n",
       "      <td>1.442695</td>\n",
       "    </tr>\n",
       "    <tr>\n",
       "      <th>4</th>\n",
       "      <td>2</td>\n",
       "      <td>2</td>\n",
       "      <td>red shoes</td>\n",
       "      <td>5125</td>\n",
       "      <td>0.8</td>\n",
       "      <td>0.741101</td>\n",
       "      <td>0.910239</td>\n",
       "      <td>0.674579</td>\n",
       "      <td>0.910239</td>\n",
       "    </tr>\n",
       "  </tbody>\n",
       "</table>\n",
       "</div>"
      ],
      "text/plain": [
       "   query_id  rank       query  doc_id  grade      gain  discount  \\\n",
       "0         1     1  blue shoes    5678    0.9  0.866066  1.442695   \n",
       "1         1     2  blue shoes    1122    0.1  0.071773  0.910239   \n",
       "2         2     1   red shoes    1521    0.9  0.866066  1.442695   \n",
       "4         2     2   red shoes    5125    0.8  0.741101  0.910239   \n",
       "\n",
       "   discounted_gain  ideal_discounted_gain  \n",
       "0         1.249469               1.442695  \n",
       "1         0.065331               0.910239  \n",
       "2         1.249469               1.442695  \n",
       "4         0.674579               0.910239  "
      ]
     },
     "execution_count": 18,
     "metadata": {},
     "output_type": "execute_result"
    }
   ],
   "source": [
    "MAX_LABEL = 1.0\n",
    "\n",
    "max_gain = (2**MAX_LABEL) - 1\n",
    "\n",
    "labeled_mf = labeled_f.copy()\n",
    "\n",
    "labeled_mf.loc[:, \"ideal_discounted_gain\"] = labeled_mf[\"discount\"] * max_gain\n",
    "labeled_mf"
   ]
  },
  {
   "cell_type": "code",
   "execution_count": 19,
   "metadata": {
    "colab": {
     "base_uri": "https://localhost:8080/",
     "height": 178
    },
    "id": "GmWzXNEewI78",
    "outputId": "f6abca84-22f1-4cdb-9495-bf480059df17"
   },
   "outputs": [
    {
     "data": {
      "text/plain": [
       "query_id\n",
       "1    2.352934\n",
       "2    2.352934\n",
       "Name: ideal_discounted_gain, dtype: float64"
      ]
     },
     "execution_count": 19,
     "metadata": {},
     "output_type": "execute_result"
    }
   ],
   "source": [
    "idcg_fm = labeled_mf.groupby(\"query_id\")[\"ideal_discounted_gain\"].sum()\n",
    "idcg_fm"
   ]
  },
  {
   "cell_type": "code",
   "execution_count": 20,
   "metadata": {
    "colab": {
     "base_uri": "https://localhost:8080/",
     "height": 178
    },
    "id": "cP3OMK1hw9_A",
    "outputId": "4868742e-882c-444f-ccd6-93e1e9820273"
   },
   "outputs": [
    {
     "data": {
      "text/plain": [
       "query_id\n",
       "1    0.558792\n",
       "2    0.817723\n",
       "dtype: float64"
      ]
     },
     "execution_count": 20,
     "metadata": {},
     "output_type": "execute_result"
    }
   ],
   "source": [
    "ndcg_fm = dcg_f / idcg_fm\n",
    "ndcg_fm"
   ]
  },
  {
   "cell_type": "markdown",
   "metadata": {
    "id": "9kyi1Sf8wVYO"
   },
   "source": [
    "## DCG / NDCG up to what position?\n",
    "\n",
    "We often say 'DCG@N' as in 'DCG@10' to talk about the DCG, but only computed. from the top 10 results. So far we have used the full retrieved result set, and ignored this.\n",
    "\n",
    "But this is easy to adjust :)\n",
    "\n",
    "Below just make sure filter our DCG / ideal DCGs to only sum up to a given rank"
   ]
  },
  {
   "cell_type": "code",
   "execution_count": 21,
   "metadata": {
    "colab": {
     "base_uri": "https://localhost:8080/"
    },
    "id": "CMIVOQdcwYI0",
    "outputId": "9dc34fa3-403a-4812-eff0-3daea1f54e71"
   },
   "outputs": [
    {
     "data": {
      "text/plain": [
       "np.float64(6.554970525044798)"
      ]
     },
     "execution_count": 21,
     "metadata": {},
     "output_type": "execute_result"
    }
   ],
   "source": [
    "AT = 10\n",
    "\n",
    "MAX_LABEL = 1.0\n",
    "\n",
    "max_gain = (2**MAX_LABEL) - 1\n",
    "\n",
    "idcg_m_10 = 0\n",
    "for i in range(1, AT + 1):\n",
    "    discount = 1 / (np.log(i + 1))\n",
    "    idcg_m_10 += max_gain * discount\n",
    "\n",
    "idcg_m_10"
   ]
  },
  {
   "cell_type": "code",
   "execution_count": 22,
   "metadata": {
    "colab": {
     "base_uri": "https://localhost:8080/",
     "height": 178
    },
    "id": "S2ajK8znx6wf",
    "outputId": "af8a3704-6f38-4896-8187-0261a6de277c"
   },
   "outputs": [
    {
     "data": {
      "text/plain": [
       "query_id\n",
       "1    1.314800\n",
       "2    1.924048\n",
       "Name: discounted_gain, dtype: float64"
      ]
     },
     "execution_count": 22,
     "metadata": {},
     "output_type": "execute_result"
    }
   ],
   "source": [
    "dcg_fm_10 = labeled_f[labeled_f[\"rank\"] < AT].groupby(\"query_id\")[\"discounted_gain\"].sum()\n",
    "dcg_fm_10"
   ]
  },
  {
   "cell_type": "code",
   "execution_count": 23,
   "metadata": {
    "colab": {
     "base_uri": "https://localhost:8080/",
     "height": 178
    },
    "id": "lN76GfZ3ycLu",
    "outputId": "385f89a4-f5e5-4410-8e88-c65bb9b3d5a2"
   },
   "outputs": [
    {
     "data": {
      "text/plain": [
       "query_id\n",
       "1    0.200581\n",
       "2    0.293525\n",
       "Name: discounted_gain, dtype: float64"
      ]
     },
     "execution_count": 23,
     "metadata": {},
     "output_type": "execute_result"
    }
   ],
   "source": [
    "ndcg_fm_10 = dcg_fm_10 / idcg_m_10\n",
    "ndcg_fm_10"
   ]
  },
  {
   "cell_type": "markdown",
   "metadata": {
    "id": "DMTemA30BEHG"
   },
   "source": [
    "## Jaccard diff result sets"
   ]
  },
  {
   "cell_type": "code",
   "execution_count": 24,
   "metadata": {
    "colab": {
     "base_uri": "https://localhost:8080/",
     "height": 143
    },
    "id": "qL1p2K5Fyfot",
    "outputId": "5ac33ceb-6b62-4798-a01c-39c85588c44f"
   },
   "outputs": [
    {
     "data": {
      "text/html": [
       "<div>\n",
       "<style scoped>\n",
       "    .dataframe tbody tr th:only-of-type {\n",
       "        vertical-align: middle;\n",
       "    }\n",
       "\n",
       "    .dataframe tbody tr th {\n",
       "        vertical-align: top;\n",
       "    }\n",
       "\n",
       "    .dataframe thead th {\n",
       "        text-align: right;\n",
       "    }\n",
       "</style>\n",
       "<table border=\"1\" class=\"dataframe\">\n",
       "  <thead>\n",
       "    <tr style=\"text-align: right;\">\n",
       "      <th></th>\n",
       "      <th></th>\n",
       "      <th>results1</th>\n",
       "    </tr>\n",
       "    <tr>\n",
       "      <th>query_id</th>\n",
       "      <th>query</th>\n",
       "      <th></th>\n",
       "    </tr>\n",
       "  </thead>\n",
       "  <tbody>\n",
       "    <tr>\n",
       "      <th>1</th>\n",
       "      <th>blue shoes</th>\n",
       "      <td>{1122, 5678}</td>\n",
       "    </tr>\n",
       "    <tr>\n",
       "      <th>2</th>\n",
       "      <th>red shoes</th>\n",
       "      <td>{1521, 1251, 5125}</td>\n",
       "    </tr>\n",
       "  </tbody>\n",
       "</table>\n",
       "</div>"
      ],
      "text/plain": [
       "                               results1\n",
       "query_id query                         \n",
       "1        blue shoes        {1122, 5678}\n",
       "2        red shoes   {1521, 1251, 5125}"
      ]
     },
     "execution_count": 24,
     "metadata": {},
     "output_type": "execute_result"
    }
   ],
   "source": [
    "results_df2 = pd.DataFrame(\n",
    "    [\n",
    "        {\"query_id\": 1, \"rank\": 1, \"query\": \"blue shoes\", \"doc_id\": 5678},\n",
    "        {\"query_id\": 1, \"rank\": 2, \"query\": \"blue shoes\", \"doc_id\": 2511},\n",
    "        {\"query_id\": 2, \"rank\": 1, \"query\": \"red shoes\", \"doc_id\": 1521},\n",
    "        {\"query_id\": 2, \"rank\": 2, \"query\": \"red shoes\", \"doc_id\": 1251},\n",
    "        {\"query_id\": 2, \"rank\": 3, \"query\": \"red shoes\", \"doc_id\": 5125},\n",
    "    ]\n",
    ")\n",
    "results_df2\n",
    "\n",
    "jaccard_df = (\n",
    "    results_df.groupby([\"query_id\", \"query\"])[\"doc_id\"].agg(set).to_frame().rename(columns={\"doc_id\": \"results1\"})\n",
    ")\n",
    "jaccard_df"
   ]
  },
  {
   "cell_type": "code",
   "execution_count": 25,
   "metadata": {
    "colab": {
     "base_uri": "https://localhost:8080/",
     "height": 143
    },
    "id": "zs2yZim1BP3u",
    "outputId": "77c2824a-45aa-44a1-8c13-7dfdca6d8f2a"
   },
   "outputs": [
    {
     "data": {
      "text/html": [
       "<div>\n",
       "<style scoped>\n",
       "    .dataframe tbody tr th:only-of-type {\n",
       "        vertical-align: middle;\n",
       "    }\n",
       "\n",
       "    .dataframe tbody tr th {\n",
       "        vertical-align: top;\n",
       "    }\n",
       "\n",
       "    .dataframe thead th {\n",
       "        text-align: right;\n",
       "    }\n",
       "</style>\n",
       "<table border=\"1\" class=\"dataframe\">\n",
       "  <thead>\n",
       "    <tr style=\"text-align: right;\">\n",
       "      <th></th>\n",
       "      <th></th>\n",
       "      <th>results1</th>\n",
       "      <th>results2</th>\n",
       "      <th>intersection</th>\n",
       "      <th>union</th>\n",
       "      <th>jaccard</th>\n",
       "    </tr>\n",
       "    <tr>\n",
       "      <th>query_id</th>\n",
       "      <th>query</th>\n",
       "      <th></th>\n",
       "      <th></th>\n",
       "      <th></th>\n",
       "      <th></th>\n",
       "      <th></th>\n",
       "    </tr>\n",
       "  </thead>\n",
       "  <tbody>\n",
       "    <tr>\n",
       "      <th>1</th>\n",
       "      <th>blue shoes</th>\n",
       "      <td>{1122, 5678}</td>\n",
       "      <td>{5678, 2511}</td>\n",
       "      <td>{5678}</td>\n",
       "      <td>{1122, 5678, 2511}</td>\n",
       "      <td>0.333333</td>\n",
       "    </tr>\n",
       "    <tr>\n",
       "      <th>2</th>\n",
       "      <th>red shoes</th>\n",
       "      <td>{1521, 1251, 5125}</td>\n",
       "      <td>{1521, 1251, 5125}</td>\n",
       "      <td>{1521, 1251, 5125}</td>\n",
       "      <td>{1521, 1251, 5125}</td>\n",
       "      <td>1.000000</td>\n",
       "    </tr>\n",
       "  </tbody>\n",
       "</table>\n",
       "</div>"
      ],
      "text/plain": [
       "                               results1            results2  \\\n",
       "query_id query                                                \n",
       "1        blue shoes        {1122, 5678}        {5678, 2511}   \n",
       "2        red shoes   {1521, 1251, 5125}  {1521, 1251, 5125}   \n",
       "\n",
       "                           intersection               union   jaccard  \n",
       "query_id query                                                         \n",
       "1        blue shoes              {5678}  {1122, 5678, 2511}  0.333333  \n",
       "2        red shoes   {1521, 1251, 5125}  {1521, 1251, 5125}  1.000000  "
      ]
     },
     "execution_count": 25,
     "metadata": {},
     "output_type": "execute_result"
    }
   ],
   "source": [
    "jaccard_df[\"results2\"] = results_df2.groupby([\"query_id\", \"query\"])[\"doc_id\"].agg(set)\n",
    "jaccard_df[\"intersection\"] = jaccard_df.apply(lambda row: (row[\"results1\"] & row[\"results2\"]), axis=1)\n",
    "jaccard_df[\"union\"] = jaccard_df.apply(lambda row: (row[\"results1\"] | row[\"results2\"]), axis=1)\n",
    "jaccard_df[\"jaccard\"] = jaccard_df[\"intersection\"].apply(len) / jaccard_df[\"union\"].apply(len)\n",
    "\n",
    "jaccard_df"
   ]
  },
  {
   "cell_type": "code",
   "execution_count": null,
   "metadata": {
    "id": "-uPxzGN6C1mW"
   },
   "outputs": [],
   "source": []
  }
 ],
 "metadata": {
  "colab": {
   "provenance": [],
   "toc_visible": true
  },
  "kernelspec": {
   "display_name": ".venv",
   "language": "python",
   "name": "python3"
  },
  "language_info": {
   "codemirror_mode": {
    "name": "ipython",
    "version": 3
   },
   "file_extension": ".py",
   "mimetype": "text/x-python",
   "name": "python",
   "nbconvert_exporter": "python",
   "pygments_lexer": "ipython3",
   "version": "3.13.7"
  }
 },
 "nbformat": 4,
 "nbformat_minor": 0
}
